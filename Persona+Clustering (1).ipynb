{
 "cells": [
  {
   "cell_type": "code",
   "execution_count": 1,
   "metadata": {
    "collapsed": true
   },
   "outputs": [],
   "source": [
    "%load_ext autoreload\n",
    "%autoreload 2"
   ]
  },
  {
   "cell_type": "code",
   "execution_count": 2,
   "metadata": {},
   "outputs": [
    {
     "name": "stderr",
     "output_type": "stream",
     "text": [
      "PyDBA BOOTING UP.\n",
      "mssql+pymssql://DPHL-PROPSCORE/FSHeartbeat database exists.\n",
      "New DPHL-PROPSCORE.FSHeartbeat connection successfully established.\n"
     ]
    }
   ],
   "source": [
    "# get all necessary python libraries to use during analysis\n",
    "\n",
    "import matplotlib.pyplot as plt\n",
    "%matplotlib inline\n",
    "import numpy as np\n",
    "import sys\n",
    "import os\n",
    "import itertools as _it\n",
    "import seaborn as sns\n",
    "\n",
    "from sklearn.feature_extraction import DictVectorizer\n",
    "from sklearn.preprocessing import Imputer\n",
    "from sklearn.feature_selection import VarianceThreshold\n",
    "from sklearn import preprocessing\n",
    "from sklearn.preprocessing import LabelEncoder\n",
    "\n",
    "from PythonUtilities.PyDBA.pydba import PyDBA, pd\n",
    "from PythonUtilities.LoggingUtility import Logging\n",
    "\n",
    "# from fancyimpute import KNN\n",
    "\n",
    "#dba = PyDBA()\n",
    "#con = dba.init_new_connection('DPHL-PROPSCORE', 'FSHeartbeat')\n",
    "\n"
   ]
  },
  {
   "cell_type": "code",
   "execution_count": 3,
   "metadata": {},
   "outputs": [
    {
     "data": {
      "text/html": [
       "<div>\n",
       "<style scoped>\n",
       "    .dataframe tbody tr th:only-of-type {\n",
       "        vertical-align: middle;\n",
       "    }\n",
       "\n",
       "    .dataframe tbody tr th {\n",
       "        vertical-align: top;\n",
       "    }\n",
       "\n",
       "    .dataframe thead th {\n",
       "        text-align: right;\n",
       "    }\n",
       "</style>\n",
       "<table border=\"1\" class=\"dataframe\">\n",
       "  <thead>\n",
       "    <tr style=\"text-align: right;\">\n",
       "      <th></th>\n",
       "      <th>State</th>\n",
       "      <th>YearsInBusiness</th>\n",
       "      <th>Title Categories</th>\n",
       "      <th>Advisory Producer</th>\n",
       "      <th>Branch Type</th>\n",
       "      <th>YearsPartnering</th>\n",
       "      <th>RegulatoryDisclosures</th>\n",
       "      <th>DuallyLicensedRep</th>\n",
       "      <th>Sales Percentile</th>\n",
       "      <th>AUM Percentile</th>\n",
       "      <th>Alt AUM Percentile</th>\n",
       "    </tr>\n",
       "  </thead>\n",
       "  <tbody>\n",
       "    <tr>\n",
       "      <th>0</th>\n",
       "      <td>CA</td>\n",
       "      <td>40.0</td>\n",
       "      <td>Branch Manager</td>\n",
       "      <td>true</td>\n",
       "      <td>OSJ</td>\n",
       "      <td>2010-05-03</td>\n",
       "      <td>Yes</td>\n",
       "      <td>Yes</td>\n",
       "      <td>96.917138</td>\n",
       "      <td>77.372958</td>\n",
       "      <td>98.098990</td>\n",
       "    </tr>\n",
       "    <tr>\n",
       "      <th>1</th>\n",
       "      <td>NY</td>\n",
       "      <td>40.0</td>\n",
       "      <td>Unknown</td>\n",
       "      <td>false</td>\n",
       "      <td>Satellite</td>\n",
       "      <td>2011-08-01</td>\n",
       "      <td>Yes</td>\n",
       "      <td>Yes</td>\n",
       "      <td>98.339591</td>\n",
       "      <td>68.859394</td>\n",
       "      <td>47.165671</td>\n",
       "    </tr>\n",
       "    <tr>\n",
       "      <th>2</th>\n",
       "      <td>CA</td>\n",
       "      <td>50.0</td>\n",
       "      <td>Advisor</td>\n",
       "      <td>false</td>\n",
       "      <td>OSJ</td>\n",
       "      <td>2013-06-27</td>\n",
       "      <td>Yes</td>\n",
       "      <td>Yes</td>\n",
       "      <td>46.428005</td>\n",
       "      <td>93.495849</td>\n",
       "      <td>98.098990</td>\n",
       "    </tr>\n",
       "    <tr>\n",
       "      <th>3</th>\n",
       "      <td>CO</td>\n",
       "      <td>50.0</td>\n",
       "      <td>Advisor</td>\n",
       "      <td>false</td>\n",
       "      <td>OSJ</td>\n",
       "      <td>2017-03-13</td>\n",
       "      <td>Yes</td>\n",
       "      <td>No</td>\n",
       "      <td>3.064354</td>\n",
       "      <td>68.859394</td>\n",
       "      <td>47.165671</td>\n",
       "    </tr>\n",
       "    <tr>\n",
       "      <th>4</th>\n",
       "      <td>PA</td>\n",
       "      <td>46.0</td>\n",
       "      <td>Advisor</td>\n",
       "      <td>true</td>\n",
       "      <td>Satellite</td>\n",
       "      <td>2011-08-16</td>\n",
       "      <td>No</td>\n",
       "      <td>Yes</td>\n",
       "      <td>21.897308</td>\n",
       "      <td>14.176934</td>\n",
       "      <td>47.165671</td>\n",
       "    </tr>\n",
       "  </tbody>\n",
       "</table>\n",
       "</div>"
      ],
      "text/plain": [
       "  State  YearsInBusiness Title Categories Advisory Producer Branch Type  \\\n",
       "0    CA             40.0   Branch Manager              true         OSJ   \n",
       "1    NY             40.0          Unknown             false   Satellite   \n",
       "2    CA             50.0          Advisor             false         OSJ   \n",
       "3    CO             50.0          Advisor             false         OSJ   \n",
       "4    PA             46.0          Advisor              true   Satellite   \n",
       "\n",
       "  YearsPartnering RegulatoryDisclosures DuallyLicensedRep  Sales Percentile  \\\n",
       "0      2010-05-03                   Yes               Yes         96.917138   \n",
       "1      2011-08-01                   Yes               Yes         98.339591   \n",
       "2      2013-06-27                   Yes               Yes         46.428005   \n",
       "3      2017-03-13                   Yes                No          3.064354   \n",
       "4      2011-08-16                    No               Yes         21.897308   \n",
       "\n",
       "   AUM Percentile  Alt AUM Percentile  \n",
       "0       77.372958           98.098990  \n",
       "1       68.859394           47.165671  \n",
       "2       93.495849           98.098990  \n",
       "3       68.859394           47.165671  \n",
       "4       14.176934           47.165671  "
      ]
     },
     "execution_count": 3,
     "metadata": {},
     "output_type": "execute_result"
    }
   ],
   "source": [
    "# read in data and display the top rows\n",
    "df = #dba.read_df('InvestorPersonaData', con) >>>>>>>Read in Excel file data here instead<<<<<<<\n",
    "keep_cols = [\n",
    "    'State', 'DateBecameRep_NumberOfYears', 'Title Categories', 'Advisory Producer:', 'Branch Type',\n",
    "    'Total Sales: All Funds', 'AUM', 'First Sale Date: All Funds', 'Alt AUM', 'RegulatoryDisclosures', 'DuallyLicensedBDRIARep'\n",
    "]\n",
    "\n",
    "original_df = df.copy()\n",
    "\n",
    "df = df[keep_cols].fillna(0)\n",
    "\n",
    "df.columns = [\n",
    "    'State', 'YearsInBusiness', 'Title Categories', 'Advisory Producer', 'Branch Type',\n",
    "    'Total Sales: All Funds', 'AUM', 'YearsPartnering', 'Alt AUM', 'RegulatoryDisclosures', 'DuallyLicensedRep'\n",
    "]\n",
    "\n",
    "\n",
    "def calculate_percentile_ranks(frame, col_names, new_names=None, remove_original=True, bin_=True):\n",
    "    if new_names is None:\n",
    "        new_names = col_names\n",
    "    \n",
    "    for col in col_names:\n",
    "        frame[new_names[col_names.index(col)]] = frame[col].rank(pct=True) * 100\n",
    "#         if bin_:\n",
    "#             frame[new_names[col_names.index(col)] + ' bin'] = pd.qcut(frame[new_names[col_names.index(col)]], 4, labels=False)\n",
    "        if remove_original:\n",
    "            del frame[col]\n",
    "    return frame\n",
    "\n",
    "df = calculate_percentile_ranks(df, ['Total Sales: All Funds', 'AUM', 'Alt AUM'], ['Sales Percentile', 'AUM Percentile', 'Alt AUM Percentile'])\n",
    "df.head()"
   ]
  },
  {
   "cell_type": "markdown",
   "metadata": {},
   "source": [
    "## Feature Engineering: Data Mutation"
   ]
  },
  {
   "cell_type": "code",
   "execution_count": 4,
   "metadata": {
    "collapsed": true
   },
   "outputs": [],
   "source": [
    "def categorizer(df):\n",
    "    if df.nunique(dropna = True) > 20:\n",
    "        df = df.astype('category').cat.codes\n",
    "        return df\n",
    "    else:\n",
    "        dummies = pd.get_dummies(df)\n",
    "        #df = df.merge(dummies, how = 'left', left_on=df.index, right_on = dummies.index)\n",
    "        return dummies\n",
    "\n",
    "def rs_categorizer(df):\n",
    "    df = df.astype('category').cat.codes\n",
    "    return df\n",
    "\n",
    "# feature engineering\n",
    "df_rs = df.copy()\n",
    "for col in df_rs.columns.tolist():\n",
    "    if df_rs[col].dtype == 'object':\n",
    "        df_rs[col] = rs_categorizer(df_rs[col])\n",
    "        \n",
    "    elif df_rs[col].dtype == 'datetime64[ns]':\n",
    "        df_rs[col] = pd.to_datetime(df_rs[col])\n",
    "        df_rs[col + '(yrs)'] = (pd.to_datetime('now') -  df_rs[col]).dt.days / 365\n",
    "        del df_rs[col]\n"
   ]
  },
  {
   "cell_type": "code",
   "execution_count": 5,
   "metadata": {},
   "outputs": [
    {
     "name": "stdout",
     "output_type": "stream",
     "text": [
      "Dataset has:\n",
      "11 columns\n",
      "18911 rows\n",
      "0 missing data elements.\n"
     ]
    },
    {
     "data": {
      "text/plain": [
       "<__main__.Profiling at 0xc9251337f0>"
      ]
     },
     "execution_count": 5,
     "metadata": {},
     "output_type": "execute_result"
    }
   ],
   "source": [
    "class Profiling:\n",
    "    def __init__(self, frame):\n",
    "        self.ncolumns = len(frame.columns.tolist())\n",
    "        self.nrows = len(frame.index)\n",
    "        self.nmissing_data_elements = frame.isnull().sum().sum()\n",
    "        print('Dataset has:\\n%s columns\\n%s rows\\n%s missing data elements.' % (self.ncolumns, self.nrows, self.nmissing_data_elements))\n",
    "        \n",
    "Profiling(df_rs)\n"
   ]
  },
  {
   "cell_type": "code",
   "execution_count": 6,
   "metadata": {},
   "outputs": [
    {
     "data": {
      "text/html": [
       "<div>\n",
       "<style scoped>\n",
       "    .dataframe tbody tr th:only-of-type {\n",
       "        vertical-align: middle;\n",
       "    }\n",
       "\n",
       "    .dataframe tbody tr th {\n",
       "        vertical-align: top;\n",
       "    }\n",
       "\n",
       "    .dataframe thead th {\n",
       "        text-align: right;\n",
       "    }\n",
       "</style>\n",
       "<table border=\"1\" class=\"dataframe\">\n",
       "  <thead>\n",
       "    <tr style=\"text-align: right;\">\n",
       "      <th></th>\n",
       "      <th>State</th>\n",
       "      <th>YearsInBusiness</th>\n",
       "      <th>Title Categories</th>\n",
       "      <th>Advisory Producer</th>\n",
       "      <th>Branch Type</th>\n",
       "      <th>RegulatoryDisclosures</th>\n",
       "      <th>DuallyLicensedRep</th>\n",
       "      <th>Sales Percentile</th>\n",
       "      <th>AUM Percentile</th>\n",
       "      <th>Alt AUM Percentile</th>\n",
       "      <th>YearsPartnering(yrs)</th>\n",
       "    </tr>\n",
       "  </thead>\n",
       "  <tbody>\n",
       "    <tr>\n",
       "      <th>0</th>\n",
       "      <td>5</td>\n",
       "      <td>40.0</td>\n",
       "      <td>43</td>\n",
       "      <td>1</td>\n",
       "      <td>1</td>\n",
       "      <td>2</td>\n",
       "      <td>1</td>\n",
       "      <td>96.917138</td>\n",
       "      <td>77.372958</td>\n",
       "      <td>98.098990</td>\n",
       "      <td>8.575342</td>\n",
       "    </tr>\n",
       "    <tr>\n",
       "      <th>1</th>\n",
       "      <td>35</td>\n",
       "      <td>40.0</td>\n",
       "      <td>94</td>\n",
       "      <td>0</td>\n",
       "      <td>2</td>\n",
       "      <td>2</td>\n",
       "      <td>1</td>\n",
       "      <td>98.339591</td>\n",
       "      <td>68.859394</td>\n",
       "      <td>47.165671</td>\n",
       "      <td>7.328767</td>\n",
       "    </tr>\n",
       "    <tr>\n",
       "      <th>2</th>\n",
       "      <td>5</td>\n",
       "      <td>50.0</td>\n",
       "      <td>5</td>\n",
       "      <td>0</td>\n",
       "      <td>1</td>\n",
       "      <td>2</td>\n",
       "      <td>1</td>\n",
       "      <td>46.428005</td>\n",
       "      <td>93.495849</td>\n",
       "      <td>98.098990</td>\n",
       "      <td>5.421918</td>\n",
       "    </tr>\n",
       "    <tr>\n",
       "      <th>3</th>\n",
       "      <td>6</td>\n",
       "      <td>50.0</td>\n",
       "      <td>5</td>\n",
       "      <td>0</td>\n",
       "      <td>1</td>\n",
       "      <td>2</td>\n",
       "      <td>0</td>\n",
       "      <td>3.064354</td>\n",
       "      <td>68.859394</td>\n",
       "      <td>47.165671</td>\n",
       "      <td>1.709589</td>\n",
       "    </tr>\n",
       "    <tr>\n",
       "      <th>4</th>\n",
       "      <td>39</td>\n",
       "      <td>46.0</td>\n",
       "      <td>5</td>\n",
       "      <td>1</td>\n",
       "      <td>2</td>\n",
       "      <td>0</td>\n",
       "      <td>1</td>\n",
       "      <td>21.897308</td>\n",
       "      <td>14.176934</td>\n",
       "      <td>47.165671</td>\n",
       "      <td>7.287671</td>\n",
       "    </tr>\n",
       "  </tbody>\n",
       "</table>\n",
       "</div>"
      ],
      "text/plain": [
       "   State  YearsInBusiness  Title Categories  Advisory Producer  Branch Type  \\\n",
       "0      5             40.0                43                  1            1   \n",
       "1     35             40.0                94                  0            2   \n",
       "2      5             50.0                 5                  0            1   \n",
       "3      6             50.0                 5                  0            1   \n",
       "4     39             46.0                 5                  1            2   \n",
       "\n",
       "   RegulatoryDisclosures  DuallyLicensedRep  Sales Percentile  AUM Percentile  \\\n",
       "0                      2                  1         96.917138       77.372958   \n",
       "1                      2                  1         98.339591       68.859394   \n",
       "2                      2                  1         46.428005       93.495849   \n",
       "3                      2                  0          3.064354       68.859394   \n",
       "4                      0                  1         21.897308       14.176934   \n",
       "\n",
       "   Alt AUM Percentile  YearsPartnering(yrs)  \n",
       "0           98.098990              8.575342  \n",
       "1           47.165671              7.328767  \n",
       "2           98.098990              5.421918  \n",
       "3           47.165671              1.709589  \n",
       "4           47.165671              7.287671  "
      ]
     },
     "execution_count": 6,
     "metadata": {},
     "output_type": "execute_result"
    }
   ],
   "source": [
    "df_rs.head()"
   ]
  },
  {
   "cell_type": "markdown",
   "metadata": {},
   "source": [
    "## Feature Engineering: Correlation Subsetting"
   ]
  },
  {
   "cell_type": "code",
   "execution_count": 7,
   "metadata": {},
   "outputs": [
    {
     "data": {
      "image/png": "[encoded data removed]",
      "text/plain": [
       "<matplotlib.figure.Figure at 0xc92078e828>"
      ]
     },
     "metadata": {},
     "output_type": "display_data"
    }
   ],
   "source": [
    "# Aim to reduce features by finding the items which have the 'highest' absolute correlation\n",
    "corr_matrix = df_rs.corr().abs()\n",
    "sol = corr_matrix.where(np.triu(np.ones(corr_matrix.shape), k=1).astype(np.bool)).stack().sort_values(ascending=False).reset_index()\n",
    "\n",
    "f, ax = plt.subplots(figsize=(15, 13))\n",
    "color_map = sns.diverging_palette(220, 10, as_cmap=True)\n",
    "sns.heatmap(corr_matrix, cmap=color_map)\n",
    "\n",
    "sol.columns = ['ColName1', 'ColName2', 'AbsCorr']\n",
    "sol = sol[sol['AbsCorr']>=.4]\n",
    "\n",
    "# ignore_cols = ['Rep CRD', 'DateOfBirth_Year']\n",
    "\n",
    "# sol = sol[(~sol['ColName1'].isin(ignore_cols)) & (~sol['ColName2'].isin(ignore_cols))]\n",
    "\n",
    "# corr_based_features = list(set(sol['ColName1'].values.tolist() + sol['ColName2'].values.tolist()))\n",
    "# corr_based_features.insert(0, 'Rep CRD')\n",
    "\n",
    "\n",
    "# df_rs_subset = df_rs[corr_based_features].dropna(how='any', axis=1)\n",
    "# df_rs_subset.info()\n",
    "\n"
   ]
  },
  {
   "cell_type": "markdown",
   "metadata": {},
   "source": [
    "# KMeans Clustering using full data"
   ]
  },
  {
   "cell_type": "code",
   "execution_count": 8,
   "metadata": {},
   "outputs": [
    {
     "name": "stdout",
     "output_type": "stream",
     "text": [
      "[6 4 6 ... 0 3 5]\n",
      "Estimated number of clusters: 7\n"
     ]
    }
   ],
   "source": [
    "from sklearn.cluster import KMeans\n",
    "from sklearn import metrics\n",
    "\n",
    "prediction_df = df_rs\n",
    "prediction_df = prediction_df.astype(int)\n",
    "\n",
    "\n",
    "af = KMeans(n_clusters=7)\n",
    "assigned_clusters = af.fit_predict(prediction_df.values)\n",
    "print(af.labels_)\n",
    "\n",
    "print('Estimated number of clusters: %s' % af.n_clusters)\n",
    "# print(\"Silhouette Coefficient: %0.3f\"\n",
    "#       % metrics.silhouette_score(df_rs_subset[df_rs_subset.columns.tolist()[1:]].values, labels, metric='sqeuclidean'))"
   ]
  },
  {
   "cell_type": "code",
   "execution_count": 9,
   "metadata": {
    "collapsed": true
   },
   "outputs": [],
   "source": [
    "cluster_df = pd.DataFrame(np.char.mod('cluster %d', assigned_clusters), columns=['Cluster'])"
   ]
  },
  {
   "cell_type": "markdown",
   "metadata": {},
   "source": [
    "## Identify feature importance by attempting to predict cluster assignment."
   ]
  },
  {
   "cell_type": "code",
   "execution_count": 10,
   "metadata": {},
   "outputs": [
    {
     "name": "stdout",
     "output_type": "stream",
     "text": [
      "Random Forest Accuracy Predicting Clusters: 0.9849830795262268\n",
      "Feature Imporance:\n"
     ]
    },
    {
     "name": "stderr",
     "output_type": "stream",
     "text": [
      "C:\\ProgramData\\Anaconda2\\envs\\ListManagement\\lib\\site-packages\\sklearn\\ensemble\\weight_boosting.py:29: DeprecationWarning: numpy.core.umath_tests is an internal NumPy module and should not be imported. It will be removed in a future NumPy release.\n",
      "  from numpy.core.umath_tests import inner1d\n"
     ]
    },
    {
     "data": {
      "text/html": [
       "<div>\n",
       "<style scoped>\n",
       "    .dataframe tbody tr th:only-of-type {\n",
       "        vertical-align: middle;\n",
       "    }\n",
       "\n",
       "    .dataframe tbody tr th {\n",
       "        vertical-align: top;\n",
       "    }\n",
       "\n",
       "    .dataframe thead th {\n",
       "        text-align: right;\n",
       "    }\n",
       "</style>\n",
       "<table border=\"1\" class=\"dataframe\">\n",
       "  <thead>\n",
       "    <tr style=\"text-align: right;\">\n",
       "      <th></th>\n",
       "      <th>feature importance (%)</th>\n",
       "    </tr>\n",
       "  </thead>\n",
       "  <tbody>\n",
       "    <tr>\n",
       "      <th>AUM Percentile</th>\n",
       "      <td>31.739837</td>\n",
       "    </tr>\n",
       "    <tr>\n",
       "      <th>Sales Percentile</th>\n",
       "      <td>31.260453</td>\n",
       "    </tr>\n",
       "    <tr>\n",
       "      <th>Title Categories</th>\n",
       "      <td>24.054134</td>\n",
       "    </tr>\n",
       "    <tr>\n",
       "      <th>Alt AUM Percentile</th>\n",
       "      <td>5.000439</td>\n",
       "    </tr>\n",
       "    <tr>\n",
       "      <th>YearsInBusiness</th>\n",
       "      <td>2.365495</td>\n",
       "    </tr>\n",
       "    <tr>\n",
       "      <th>YearsPartnering(yrs)</th>\n",
       "      <td>2.159369</td>\n",
       "    </tr>\n",
       "    <tr>\n",
       "      <th>State</th>\n",
       "      <td>1.400691</td>\n",
       "    </tr>\n",
       "    <tr>\n",
       "      <th>Branch Type</th>\n",
       "      <td>1.055043</td>\n",
       "    </tr>\n",
       "    <tr>\n",
       "      <th>RegulatoryDisclosures</th>\n",
       "      <td>0.380787</td>\n",
       "    </tr>\n",
       "    <tr>\n",
       "      <th>Advisory Producer</th>\n",
       "      <td>0.297959</td>\n",
       "    </tr>\n",
       "    <tr>\n",
       "      <th>DuallyLicensedRep</th>\n",
       "      <td>0.285793</td>\n",
       "    </tr>\n",
       "  </tbody>\n",
       "</table>\n",
       "</div>"
      ],
      "text/plain": [
       "                       feature importance (%)\n",
       "AUM Percentile                      31.739837\n",
       "Sales Percentile                    31.260453\n",
       "Title Categories                    24.054134\n",
       "Alt AUM Percentile                   5.000439\n",
       "YearsInBusiness                      2.365495\n",
       "YearsPartnering(yrs)                 2.159369\n",
       "State                                1.400691\n",
       "Branch Type                          1.055043\n",
       "RegulatoryDisclosures                0.380787\n",
       "Advisory Producer                    0.297959\n",
       "DuallyLicensedRep                    0.285793"
      ]
     },
     "execution_count": 10,
     "metadata": {},
     "output_type": "execute_result"
    }
   ],
   "source": [
    "from sklearn.ensemble import RandomForestClassifier\n",
    "from sklearn.model_selection import train_test_split\n",
    "\n",
    "train_X, test_X, train_y, test_y = train_test_split(prediction_df, cluster_df['Cluster'], random_state=123)\n",
    "\n",
    "rf_clf = RandomForestClassifier()\n",
    "\n",
    "rf_clf.fit(train_X, train_y)\n",
    "\n",
    "pred_y = rf_clf.predict(test_X)\n",
    "\n",
    "print('Random Forest Accuracy Predicting Clusters: %s' % metrics.accuracy_score(y_pred=pred_y, y_true=test_y))\n",
    "# print('Random Forest AUC Score: %s' % metrics.roc_auc_score(y_score=rf_clf.predict_proba(test_X), y_true=test_y))\n",
    "print('Feature Imporance:')\n",
    "feature_importances = pd.DataFrame(rf_clf.feature_importances_ * 100,\n",
    "                                   index = train_X.columns,\n",
    "                                    columns=['feature importance (%)']).sort_values('feature importance (%)', ascending=False)\n",
    "feature_importances"
   ]
  },
  {
   "cell_type": "markdown",
   "metadata": {},
   "source": [
    "## Create excel file with Pivot Table"
   ]
  },
  {
   "cell_type": "code",
   "execution_count": 12,
   "metadata": {
    "collapsed": true
   },
   "outputs": [],
   "source": [
    "original_df['Clusters'] = assigned_clusters\n",
    "\n",
    "OUT_PATH = 'c:/USERS/_cmattson/DESKTOP/CLUSTERMATRIX.xlsx'\n",
    "writer = pd.ExcelWriter(OUT_PATH)\n",
    "OFF_LIMIT_COLS = ['Rep CRD', 'Clusters']\n",
    "for col in original_df.columns.tolist():\n",
    "    if col not in OFF_LIMIT_COLS:\n",
    "        pd.pivot_table(original_df, values='Rep CRD', index=col, columns='Clusters', aggfunc='count').to_excel(writer, sheet_name=col[:30].replace(':', '').replace('?', ''))\n",
    "writer.close()"
   ]
  },
  {
   "cell_type": "markdown",
   "metadata": {},
   "source": [
    "# Clustering attempt using PCA "
   ]
  },
  {
   "cell_type": "code",
   "execution_count": null,
   "metadata": {
    "collapsed": true,
    "scrolled": true
   },
   "outputs": [],
   "source": [
    "# Perform PCA to reduce dimensionality of data (reducing to 2 components).\n",
    "\n",
    "from sklearn.decomposition import PCA\n",
    "\n",
    "pca = PCA(n_components=3).fit(df_rs)\n",
    "\n",
    "df_rs_pca3d = pca.transform(df_rs)\n"
   ]
  },
  {
   "cell_type": "code",
   "execution_count": null,
   "metadata": {
    "collapsed": true
   },
   "outputs": [],
   "source": [
    "# Perform clustering\n",
    "df_rs_pca2d = df_rs_pca3d.astype(int)\n",
    "\n",
    "\n",
    "af = KMeans(n_clusters=7)\n",
    "assigned_clusters = af.fit_predict(df_rs_pca3d)\n",
    "print(af.labels_)\n",
    "\n",
    "print('Estimated number of clusters: %s' % af.n_clusters)"
   ]
  },
  {
   "cell_type": "markdown",
   "metadata": {},
   "source": [
    "## Identify feature importance by attempting to predict cluster assignment"
   ]
  },
  {
   "cell_type": "code",
   "execution_count": null,
   "metadata": {
    "collapsed": true
   },
   "outputs": [],
   "source": [
    "train_X, test_X, train_y, test_y = train_test_split(df_rs_pca3d, cluster_df['Cluster'], random_state=123)\n",
    "\n",
    "rf_clf = RandomForestClassifier()\n",
    "\n",
    "rf_clf.fit(train_X, train_y)\n",
    "\n",
    "pred_y = rf_clf.predict(test_X)\n",
    "\n",
    "print('Random Forest Accuracy Predicting Clusters: %s' % metrics.accuracy_score(y_pred=pred_y, y_true=test_y))\n"
   ]
  },
  {
   "cell_type": "code",
   "execution_count": null,
   "metadata": {
    "collapsed": true
   },
   "outputs": [],
   "source": []
  }
 ],
 "metadata": {
  "kernelspec": {
   "display_name": "Python 3",
   "language": "python",
   "name": "python3"
  },
  "language_info": {
   "codemirror_mode": {
    "name": "ipython",
    "version": 3
   },
   "file_extension": ".py",
   "mimetype": "text/x-python",
   "name": "python",
   "nbconvert_exporter": "python",
   "pygments_lexer": "ipython3",
   "version": "3.6.3"
  }
 },
 "nbformat": 4,
 "nbformat_minor": 2
}
